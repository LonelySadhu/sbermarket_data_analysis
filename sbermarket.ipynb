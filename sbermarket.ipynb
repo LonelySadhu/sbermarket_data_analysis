{
 "cells": [
  {
   "cell_type": "markdown",
   "metadata": {},
   "source": [
    "#### Описание полей датасета\n",
    "orders\n",
    "    Id - id заказа \n",
    "\tcreated_at - timestamp создания заказа на сайте   \n",
    "\tdelivery_window_id - id слота доставки  \n",
    "\titem_total - Сумма всех товаров в корзине (средний чек)   \n",
    "\tpromo_total - Сумма промо-кода на товары в корзине  \n",
    "\tcost - Изначальная стоимость доставки  \n",
    "\ttotal_cost - Финальная стоимость доставки (отличается, если был применен промо-код на доставку. Если промокода не было, то cost=total_cost)  \n",
    "\tship_address_id - id адреса доставки (ключ к addresses.id)  \n",
    "\tshipped_at - timestamp доставки заказа  \n",
    "\tstate - состояние доставки (shipped, canceled и тд)  \n",
    "\tstore_id - id магазина  \n",
    "\ttotal_quantity - Количество единиц товара  \n",
    "\ttotal_weight - Вес заказа , г.  \n",
    "\tuser_id\tid - пользователя  \n",
    "delivery_windows  \n",
    "    id - id слота доставки (ключ к orders.delivery_window_id)  \n",
    "\tstarts_at -\ttimestamp начала слота доставки  \n",
    "\tends_at - timestamp конца слота доставки  \n",
    "\tstore_id - ID магазина  \n",
    "stores\n",
    "    id - ID магазина  \n",
    "\tcity - ID города  \n",
    "\tretailer_id - ID ритейлера  \n",
    "addresses\n",
    "    id - ID адреса (ключ к orders.ship_address_id)  \n",
    "\tlat - latitude  \n",
    "\tlon - longitude  \n",
    "replacements  \n",
    "    item_id - id товара, который был заменен  \n",
    "\torder_id - id заказа, в котором была замена  \n",
    "\tstate - статус (замена)  \n",
    "cancellations  \n",
    "    item_id  - id товара, который был отменен  \n",
    "\torder_id - id заказа, в котором была отмена  \n",
    "\tstate - статус (отмена)  \n",
    "    \n"
   ]
  },
  {
   "cell_type": "code",
   "execution_count": 1,
   "metadata": {},
   "outputs": [],
   "source": [
    "import pandas as pd\n",
    "import numpy as np\n",
    "\n",
    "import matplotlib.pyplot as plt\n",
    "\n",
    "plt.style.use('ggplot')\n",
    "import seaborn as sns\n",
    "\n",
    "import warnings\n",
    "warnings.filterwarnings(\"ignore\")\n",
    "\n",
    "import datetime as dt"
   ]
  },
  {
   "cell_type": "code",
   "execution_count": 2,
   "metadata": {},
   "outputs": [],
   "source": [
    "pd.set_option('display.max_columns', 100)"
   ]
  },
  {
   "cell_type": "code",
   "execution_count": 3,
   "metadata": {},
   "outputs": [],
   "source": [
    "df = pd.read_csv('orders.csv', sep=';')"
   ]
  },
  {
   "cell_type": "code",
   "execution_count": 4,
   "metadata": {},
   "outputs": [
    {
     "data": {
      "text/html": [
       "<div>\n",
       "<style scoped>\n",
       "    .dataframe tbody tr th:only-of-type {\n",
       "        vertical-align: middle;\n",
       "    }\n",
       "\n",
       "    .dataframe tbody tr th {\n",
       "        vertical-align: top;\n",
       "    }\n",
       "\n",
       "    .dataframe thead th {\n",
       "        text-align: right;\n",
       "    }\n",
       "</style>\n",
       "<table border=\"1\" class=\"dataframe\">\n",
       "  <thead>\n",
       "    <tr style=\"text-align: right;\">\n",
       "      <th></th>\n",
       "      <th>city</th>\n",
       "      <th>created_at</th>\n",
       "      <th>delivery_window_id</th>\n",
       "      <th>elevator</th>\n",
       "      <th>ends_at</th>\n",
       "      <th>floor</th>\n",
       "      <th>id</th>\n",
       "      <th>id (addresses)</th>\n",
       "      <th>id (delivery_windows)</th>\n",
       "      <th>id (stores)</th>\n",
       "      <th>item_id</th>\n",
       "      <th>item_id (cancellations)</th>\n",
       "      <th>lat</th>\n",
       "      <th>lon</th>\n",
       "      <th>order_id</th>\n",
       "      <th>order_id (cancellations)</th>\n",
       "      <th>retailer_id</th>\n",
       "      <th>ship_address_id</th>\n",
       "      <th>shipped_at</th>\n",
       "      <th>starts_at</th>\n",
       "      <th>state</th>\n",
       "      <th>state (cancellations)</th>\n",
       "      <th>state (replacements)</th>\n",
       "      <th>store_id</th>\n",
       "      <th>store_id (delivery_windows)</th>\n",
       "      <th>time_zone</th>\n",
       "      <th>user_id</th>\n",
       "      <th>cost</th>\n",
       "      <th>countOfOrders</th>\n",
       "      <th>distinct_orders</th>\n",
       "      <th>item_total</th>\n",
       "      <th>promo_total</th>\n",
       "      <th>total_cost</th>\n",
       "      <th>total_quantity</th>\n",
       "      <th>total_weight</th>\n",
       "    </tr>\n",
       "  </thead>\n",
       "  <tbody>\n",
       "    <tr>\n",
       "      <th>0</th>\n",
       "      <td>1.0</td>\n",
       "      <td>11.07.2018 21:55:37</td>\n",
       "      <td>190792.0</td>\n",
       "      <td>passenger</td>\n",
       "      <td>12.07.2018 21:00:00</td>\n",
       "      <td>1</td>\n",
       "      <td>3544664.0</td>\n",
       "      <td>81323.0</td>\n",
       "      <td>190792.0</td>\n",
       "      <td>11.0</td>\n",
       "      <td>NaN</td>\n",
       "      <td>8543539.0</td>\n",
       "      <td>55,7354883</td>\n",
       "      <td>37,4025934</td>\n",
       "      <td>NaN</td>\n",
       "      <td>3544664.0</td>\n",
       "      <td>1.0</td>\n",
       "      <td>81323.0</td>\n",
       "      <td>12.07.2018 19:35:03</td>\n",
       "      <td>12.07.2018 19:00:00</td>\n",
       "      <td>shipped</td>\n",
       "      <td>canceled</td>\n",
       "      <td>NaN</td>\n",
       "      <td>11.0</td>\n",
       "      <td>11.0</td>\n",
       "      <td>Europe/Moscow</td>\n",
       "      <td>27769.0</td>\n",
       "      <td>299</td>\n",
       "      <td>0</td>\n",
       "      <td>0</td>\n",
       "      <td>2903.0</td>\n",
       "      <td>0</td>\n",
       "      <td>299</td>\n",
       "      <td>34.0</td>\n",
       "      <td>17470.0</td>\n",
       "    </tr>\n",
       "    <tr>\n",
       "      <th>1</th>\n",
       "      <td>1.0</td>\n",
       "      <td>11.07.2018 21:55:37</td>\n",
       "      <td>190792.0</td>\n",
       "      <td>passenger</td>\n",
       "      <td>12.07.2018 21:00:00</td>\n",
       "      <td>1</td>\n",
       "      <td>3544664.0</td>\n",
       "      <td>81323.0</td>\n",
       "      <td>190792.0</td>\n",
       "      <td>11.0</td>\n",
       "      <td>NaN</td>\n",
       "      <td>8543399.0</td>\n",
       "      <td>55,7354883</td>\n",
       "      <td>37,4025934</td>\n",
       "      <td>NaN</td>\n",
       "      <td>3544664.0</td>\n",
       "      <td>1.0</td>\n",
       "      <td>81323.0</td>\n",
       "      <td>12.07.2018 19:35:03</td>\n",
       "      <td>12.07.2018 19:00:00</td>\n",
       "      <td>shipped</td>\n",
       "      <td>canceled</td>\n",
       "      <td>NaN</td>\n",
       "      <td>11.0</td>\n",
       "      <td>11.0</td>\n",
       "      <td>Europe/Moscow</td>\n",
       "      <td>27769.0</td>\n",
       "      <td>299</td>\n",
       "      <td>0</td>\n",
       "      <td>0</td>\n",
       "      <td>2903.0</td>\n",
       "      <td>0</td>\n",
       "      <td>299</td>\n",
       "      <td>34.0</td>\n",
       "      <td>17470.0</td>\n",
       "    </tr>\n",
       "    <tr>\n",
       "      <th>2</th>\n",
       "      <td>1.0</td>\n",
       "      <td>11.07.2018 21:55:37</td>\n",
       "      <td>190792.0</td>\n",
       "      <td>passenger</td>\n",
       "      <td>12.07.2018 21:00:00</td>\n",
       "      <td>1</td>\n",
       "      <td>3544664.0</td>\n",
       "      <td>81323.0</td>\n",
       "      <td>190792.0</td>\n",
       "      <td>11.0</td>\n",
       "      <td>NaN</td>\n",
       "      <td>8543543.0</td>\n",
       "      <td>55,7354883</td>\n",
       "      <td>37,4025934</td>\n",
       "      <td>NaN</td>\n",
       "      <td>3544664.0</td>\n",
       "      <td>1.0</td>\n",
       "      <td>81323.0</td>\n",
       "      <td>12.07.2018 19:35:03</td>\n",
       "      <td>12.07.2018 19:00:00</td>\n",
       "      <td>shipped</td>\n",
       "      <td>canceled</td>\n",
       "      <td>NaN</td>\n",
       "      <td>11.0</td>\n",
       "      <td>11.0</td>\n",
       "      <td>Europe/Moscow</td>\n",
       "      <td>27769.0</td>\n",
       "      <td>299</td>\n",
       "      <td>0</td>\n",
       "      <td>0</td>\n",
       "      <td>2903.0</td>\n",
       "      <td>0</td>\n",
       "      <td>299</td>\n",
       "      <td>34.0</td>\n",
       "      <td>17470.0</td>\n",
       "    </tr>\n",
       "    <tr>\n",
       "      <th>3</th>\n",
       "      <td>1.0</td>\n",
       "      <td>11.07.2018 21:55:37</td>\n",
       "      <td>190792.0</td>\n",
       "      <td>passenger</td>\n",
       "      <td>12.07.2018 21:00:00</td>\n",
       "      <td>1</td>\n",
       "      <td>3544664.0</td>\n",
       "      <td>81323.0</td>\n",
       "      <td>190792.0</td>\n",
       "      <td>11.0</td>\n",
       "      <td>NaN</td>\n",
       "      <td>8543522.0</td>\n",
       "      <td>55,7354883</td>\n",
       "      <td>37,4025934</td>\n",
       "      <td>NaN</td>\n",
       "      <td>3544664.0</td>\n",
       "      <td>1.0</td>\n",
       "      <td>81323.0</td>\n",
       "      <td>12.07.2018 19:35:03</td>\n",
       "      <td>12.07.2018 19:00:00</td>\n",
       "      <td>shipped</td>\n",
       "      <td>canceled</td>\n",
       "      <td>NaN</td>\n",
       "      <td>11.0</td>\n",
       "      <td>11.0</td>\n",
       "      <td>Europe/Moscow</td>\n",
       "      <td>27769.0</td>\n",
       "      <td>299</td>\n",
       "      <td>0</td>\n",
       "      <td>0</td>\n",
       "      <td>2903.0</td>\n",
       "      <td>0</td>\n",
       "      <td>299</td>\n",
       "      <td>34.0</td>\n",
       "      <td>17470.0</td>\n",
       "    </tr>\n",
       "    <tr>\n",
       "      <th>4</th>\n",
       "      <td>1.0</td>\n",
       "      <td>11.07.2018 21:55:37</td>\n",
       "      <td>190792.0</td>\n",
       "      <td>passenger</td>\n",
       "      <td>12.07.2018 21:00:00</td>\n",
       "      <td>1</td>\n",
       "      <td>3544664.0</td>\n",
       "      <td>81323.0</td>\n",
       "      <td>190792.0</td>\n",
       "      <td>11.0</td>\n",
       "      <td>NaN</td>\n",
       "      <td>8543539.0</td>\n",
       "      <td>55,7354883</td>\n",
       "      <td>37,4025934</td>\n",
       "      <td>NaN</td>\n",
       "      <td>3544664.0</td>\n",
       "      <td>1.0</td>\n",
       "      <td>81323.0</td>\n",
       "      <td>12.07.2018 19:35:03</td>\n",
       "      <td>12.07.2018 19:00:00</td>\n",
       "      <td>shipped</td>\n",
       "      <td>canceled</td>\n",
       "      <td>NaN</td>\n",
       "      <td>11.0</td>\n",
       "      <td>11.0</td>\n",
       "      <td>Europe/Moscow</td>\n",
       "      <td>27769.0</td>\n",
       "      <td>299</td>\n",
       "      <td>0</td>\n",
       "      <td>0</td>\n",
       "      <td>2903.0</td>\n",
       "      <td>0</td>\n",
       "      <td>299</td>\n",
       "      <td>34.0</td>\n",
       "      <td>17470.0</td>\n",
       "    </tr>\n",
       "  </tbody>\n",
       "</table>\n",
       "</div>"
      ],
      "text/plain": [
       "   city           created_at  delivery_window_id   elevator  \\\n",
       "0   1.0  11.07.2018 21:55:37            190792.0  passenger   \n",
       "1   1.0  11.07.2018 21:55:37            190792.0  passenger   \n",
       "2   1.0  11.07.2018 21:55:37            190792.0  passenger   \n",
       "3   1.0  11.07.2018 21:55:37            190792.0  passenger   \n",
       "4   1.0  11.07.2018 21:55:37            190792.0  passenger   \n",
       "\n",
       "               ends_at floor         id  id (addresses)  \\\n",
       "0  12.07.2018 21:00:00     1  3544664.0         81323.0   \n",
       "1  12.07.2018 21:00:00     1  3544664.0         81323.0   \n",
       "2  12.07.2018 21:00:00     1  3544664.0         81323.0   \n",
       "3  12.07.2018 21:00:00     1  3544664.0         81323.0   \n",
       "4  12.07.2018 21:00:00     1  3544664.0         81323.0   \n",
       "\n",
       "   id (delivery_windows)  id (stores)  item_id  item_id (cancellations)  \\\n",
       "0               190792.0         11.0      NaN                8543539.0   \n",
       "1               190792.0         11.0      NaN                8543399.0   \n",
       "2               190792.0         11.0      NaN                8543543.0   \n",
       "3               190792.0         11.0      NaN                8543522.0   \n",
       "4               190792.0         11.0      NaN                8543539.0   \n",
       "\n",
       "          lat         lon  order_id  order_id (cancellations)  retailer_id  \\\n",
       "0  55,7354883  37,4025934       NaN                 3544664.0          1.0   \n",
       "1  55,7354883  37,4025934       NaN                 3544664.0          1.0   \n",
       "2  55,7354883  37,4025934       NaN                 3544664.0          1.0   \n",
       "3  55,7354883  37,4025934       NaN                 3544664.0          1.0   \n",
       "4  55,7354883  37,4025934       NaN                 3544664.0          1.0   \n",
       "\n",
       "   ship_address_id           shipped_at            starts_at    state  \\\n",
       "0          81323.0  12.07.2018 19:35:03  12.07.2018 19:00:00  shipped   \n",
       "1          81323.0  12.07.2018 19:35:03  12.07.2018 19:00:00  shipped   \n",
       "2          81323.0  12.07.2018 19:35:03  12.07.2018 19:00:00  shipped   \n",
       "3          81323.0  12.07.2018 19:35:03  12.07.2018 19:00:00  shipped   \n",
       "4          81323.0  12.07.2018 19:35:03  12.07.2018 19:00:00  shipped   \n",
       "\n",
       "  state (cancellations) state (replacements)  store_id  \\\n",
       "0              canceled                  NaN      11.0   \n",
       "1              canceled                  NaN      11.0   \n",
       "2              canceled                  NaN      11.0   \n",
       "3              canceled                  NaN      11.0   \n",
       "4              canceled                  NaN      11.0   \n",
       "\n",
       "   store_id (delivery_windows)      time_zone  user_id cost  countOfOrders  \\\n",
       "0                         11.0  Europe/Moscow  27769.0  299              0   \n",
       "1                         11.0  Europe/Moscow  27769.0  299              0   \n",
       "2                         11.0  Europe/Moscow  27769.0  299              0   \n",
       "3                         11.0  Europe/Moscow  27769.0  299              0   \n",
       "4                         11.0  Europe/Moscow  27769.0  299              0   \n",
       "\n",
       "   distinct_orders  item_total promo_total total_cost  total_quantity  \\\n",
       "0                0      2903.0           0        299            34.0   \n",
       "1                0      2903.0           0        299            34.0   \n",
       "2                0      2903.0           0        299            34.0   \n",
       "3                0      2903.0           0        299            34.0   \n",
       "4                0      2903.0           0        299            34.0   \n",
       "\n",
       "   total_weight  \n",
       "0       17470.0  \n",
       "1       17470.0  \n",
       "2       17470.0  \n",
       "3       17470.0  \n",
       "4       17470.0  "
      ]
     },
     "execution_count": 4,
     "metadata": {},
     "output_type": "execute_result"
    }
   ],
   "source": [
    "df.head()"
   ]
  },
  {
   "cell_type": "code",
   "execution_count": 5,
   "metadata": {},
   "outputs": [
    {
     "name": "stdout",
     "output_type": "stream",
     "text": [
      "<class 'pandas.core.frame.DataFrame'>\n",
      "RangeIndex: 4093180 entries, 0 to 4093179\n",
      "Data columns (total 35 columns):\n",
      " #   Column                       Dtype  \n",
      "---  ------                       -----  \n",
      " 0   city                         float64\n",
      " 1   created_at                   object \n",
      " 2   delivery_window_id           float64\n",
      " 3   elevator                     object \n",
      " 4   ends_at                      object \n",
      " 5   floor                        object \n",
      " 6   id                           float64\n",
      " 7   id (addresses)               float64\n",
      " 8   id (delivery_windows)        float64\n",
      " 9   id (stores)                  float64\n",
      " 10  item_id                      float64\n",
      " 11  item_id (cancellations)      float64\n",
      " 12  lat                          object \n",
      " 13  lon                          object \n",
      " 14  order_id                     float64\n",
      " 15  order_id (cancellations)     float64\n",
      " 16  retailer_id                  float64\n",
      " 17  ship_address_id              float64\n",
      " 18  shipped_at                   object \n",
      " 19  starts_at                    object \n",
      " 20  state                        object \n",
      " 21  state (cancellations)        object \n",
      " 22  state (replacements)         object \n",
      " 23  store_id                     float64\n",
      " 24  store_id (delivery_windows)  float64\n",
      " 25  time_zone                    object \n",
      " 26  user_id                      float64\n",
      " 27  cost                         object \n",
      " 28  countOfOrders                int64  \n",
      " 29  distinct_orders              int64  \n",
      " 30  item_total                   float64\n",
      " 31  promo_total                  object \n",
      " 32  total_cost                   object \n",
      " 33  total_quantity               float64\n",
      " 34  total_weight                 float64\n",
      "dtypes: float64(18), int64(2), object(15)\n",
      "memory usage: 1.1+ GB\n"
     ]
    }
   ],
   "source": [
    "df.info()"
   ]
  },
  {
   "cell_type": "markdown",
   "metadata": {},
   "source": [
    "#### Немного почистим данные удалив ненужные поля, повторяющиеся значения, заказы которые были отменены.."
   ]
  },
  {
   "cell_type": "code",
   "execution_count": 6,
   "metadata": {},
   "outputs": [],
   "source": [
    "#поля для удаления\n",
    "to_drop = ['countOfOrders', 'distinct_orders']"
   ]
  },
  {
   "cell_type": "code",
   "execution_count": 7,
   "metadata": {},
   "outputs": [],
   "source": [
    "df = df.drop(columns=to_drop)"
   ]
  },
  {
   "cell_type": "code",
   "execution_count": 8,
   "metadata": {},
   "outputs": [
    {
     "data": {
      "text/plain": [
       "5897"
      ]
     },
     "execution_count": 8,
     "metadata": {},
     "output_type": "execute_result"
    }
   ],
   "source": [
    "df['id'].isna().sum() # Эти строки будем удалять"
   ]
  },
  {
   "cell_type": "code",
   "execution_count": 9,
   "metadata": {},
   "outputs": [],
   "source": [
    "df.dropna(subset=['id'], how='all', inplace = True) "
   ]
  },
  {
   "cell_type": "code",
   "execution_count": 10,
   "metadata": {},
   "outputs": [
    {
     "data": {
      "text/plain": [
       "3755140"
      ]
     },
     "execution_count": 10,
     "metadata": {},
     "output_type": "execute_result"
    }
   ],
   "source": [
    "# Повторяющиеся строки \n",
    "df.duplicated(subset='id', keep='first').sum()"
   ]
  },
  {
   "cell_type": "code",
   "execution_count": 11,
   "metadata": {},
   "outputs": [],
   "source": [
    "# Удаляем повторяющиеся строки\n",
    "df = df.drop_duplicates(subset=['id'], keep='last')"
   ]
  },
  {
   "cell_type": "code",
   "execution_count": 12,
   "metadata": {},
   "outputs": [],
   "source": [
    "df[[\"shipped_at\", \"created_at\", \"ends_at\", \"starts_at\"]] =\\\n",
    "df[[\"shipped_at\", \"created_at\", \"ends_at\", \"starts_at\"]].apply(pd.to_datetime) # Преобразуем object to datetime"
   ]
  },
  {
   "cell_type": "code",
   "execution_count": 13,
   "metadata": {},
   "outputs": [],
   "source": [
    "# Object to float\n",
    "df[['cost', 'total_cost']] = df[['cost', 'total_cost']].apply(pd.to_numeric, errors='coerce')"
   ]
  },
  {
   "cell_type": "code",
   "execution_count": 14,
   "metadata": {},
   "outputs": [],
   "source": [
    "#Количественные переменные\n",
    "quant_var = ['cost', 'total_cost', 'item_total', 'total_quantity', 'total_weight'] "
   ]
  },
  {
   "cell_type": "code",
   "execution_count": 15,
   "metadata": {},
   "outputs": [
    {
     "data": {
      "text/html": [
       "<div>\n",
       "<style scoped>\n",
       "    .dataframe tbody tr th:only-of-type {\n",
       "        vertical-align: middle;\n",
       "    }\n",
       "\n",
       "    .dataframe tbody tr th {\n",
       "        vertical-align: top;\n",
       "    }\n",
       "\n",
       "    .dataframe thead th {\n",
       "        text-align: right;\n",
       "    }\n",
       "</style>\n",
       "<table border=\"1\" class=\"dataframe\">\n",
       "  <thead>\n",
       "    <tr style=\"text-align: right;\">\n",
       "      <th></th>\n",
       "      <th>cost</th>\n",
       "      <th>total_cost</th>\n",
       "      <th>item_total</th>\n",
       "      <th>total_quantity</th>\n",
       "      <th>total_weight</th>\n",
       "    </tr>\n",
       "  </thead>\n",
       "  <tbody>\n",
       "    <tr>\n",
       "      <th>count</th>\n",
       "      <td>332128.000000</td>\n",
       "      <td>332128.000000</td>\n",
       "      <td>332143.000000</td>\n",
       "      <td>332143.000000</td>\n",
       "      <td>3.321430e+05</td>\n",
       "    </tr>\n",
       "    <tr>\n",
       "      <th>mean</th>\n",
       "      <td>258.339234</td>\n",
       "      <td>189.196819</td>\n",
       "      <td>4927.418645</td>\n",
       "      <td>44.289351</td>\n",
       "      <td>2.697661e+04</td>\n",
       "    </tr>\n",
       "    <tr>\n",
       "      <th>std</th>\n",
       "      <td>172.266916</td>\n",
       "      <td>175.255818</td>\n",
       "      <td>5538.327433</td>\n",
       "      <td>75.252129</td>\n",
       "      <td>4.196525e+04</td>\n",
       "    </tr>\n",
       "    <tr>\n",
       "      <th>min</th>\n",
       "      <td>0.000000</td>\n",
       "      <td>-298.000000</td>\n",
       "      <td>0.000000</td>\n",
       "      <td>0.000000</td>\n",
       "      <td>0.000000e+00</td>\n",
       "    </tr>\n",
       "    <tr>\n",
       "      <th>25%</th>\n",
       "      <td>199.000000</td>\n",
       "      <td>0.000000</td>\n",
       "      <td>2573.000000</td>\n",
       "      <td>18.000000</td>\n",
       "      <td>9.710000e+03</td>\n",
       "    </tr>\n",
       "    <tr>\n",
       "      <th>50%</th>\n",
       "      <td>299.000000</td>\n",
       "      <td>199.000000</td>\n",
       "      <td>3881.000000</td>\n",
       "      <td>31.000000</td>\n",
       "      <td>1.822100e+04</td>\n",
       "    </tr>\n",
       "    <tr>\n",
       "      <th>75%</th>\n",
       "      <td>299.000000</td>\n",
       "      <td>299.000000</td>\n",
       "      <td>5816.000000</td>\n",
       "      <td>50.000000</td>\n",
       "      <td>3.200000e+04</td>\n",
       "    </tr>\n",
       "    <tr>\n",
       "      <th>max</th>\n",
       "      <td>9500.000000</td>\n",
       "      <td>9500.000000</td>\n",
       "      <td>480746.000000</td>\n",
       "      <td>7728.000000</td>\n",
       "      <td>3.864000e+06</td>\n",
       "    </tr>\n",
       "  </tbody>\n",
       "</table>\n",
       "</div>"
      ],
      "text/plain": [
       "                cost     total_cost     item_total  total_quantity  \\\n",
       "count  332128.000000  332128.000000  332143.000000   332143.000000   \n",
       "mean      258.339234     189.196819    4927.418645       44.289351   \n",
       "std       172.266916     175.255818    5538.327433       75.252129   \n",
       "min         0.000000    -298.000000       0.000000        0.000000   \n",
       "25%       199.000000       0.000000    2573.000000       18.000000   \n",
       "50%       299.000000     199.000000    3881.000000       31.000000   \n",
       "75%       299.000000     299.000000    5816.000000       50.000000   \n",
       "max      9500.000000    9500.000000  480746.000000     7728.000000   \n",
       "\n",
       "       total_weight  \n",
       "count  3.321430e+05  \n",
       "mean   2.697661e+04  \n",
       "std    4.196525e+04  \n",
       "min    0.000000e+00  \n",
       "25%    9.710000e+03  \n",
       "50%    1.822100e+04  \n",
       "75%    3.200000e+04  \n",
       "max    3.864000e+06  "
      ]
     },
     "execution_count": 15,
     "metadata": {},
     "output_type": "execute_result"
    }
   ],
   "source": [
    "df[quant_var].describe()"
   ]
  },
  {
   "cell_type": "code",
   "execution_count": 16,
   "metadata": {},
   "outputs": [
    {
     "data": {
      "text/html": [
       "<div>\n",
       "<style scoped>\n",
       "    .dataframe tbody tr th:only-of-type {\n",
       "        vertical-align: middle;\n",
       "    }\n",
       "\n",
       "    .dataframe tbody tr th {\n",
       "        vertical-align: top;\n",
       "    }\n",
       "\n",
       "    .dataframe thead th {\n",
       "        text-align: right;\n",
       "    }\n",
       "</style>\n",
       "<table border=\"1\" class=\"dataframe\">\n",
       "  <thead>\n",
       "    <tr style=\"text-align: right;\">\n",
       "      <th></th>\n",
       "      <th>city</th>\n",
       "      <th>created_at</th>\n",
       "      <th>delivery_window_id</th>\n",
       "      <th>elevator</th>\n",
       "      <th>ends_at</th>\n",
       "      <th>floor</th>\n",
       "      <th>id</th>\n",
       "      <th>id (addresses)</th>\n",
       "      <th>id (delivery_windows)</th>\n",
       "      <th>id (stores)</th>\n",
       "      <th>item_id</th>\n",
       "      <th>item_id (cancellations)</th>\n",
       "      <th>lat</th>\n",
       "      <th>lon</th>\n",
       "      <th>order_id</th>\n",
       "      <th>order_id (cancellations)</th>\n",
       "      <th>retailer_id</th>\n",
       "      <th>ship_address_id</th>\n",
       "      <th>shipped_at</th>\n",
       "      <th>starts_at</th>\n",
       "      <th>state</th>\n",
       "      <th>state (cancellations)</th>\n",
       "      <th>state (replacements)</th>\n",
       "      <th>store_id</th>\n",
       "      <th>store_id (delivery_windows)</th>\n",
       "      <th>time_zone</th>\n",
       "      <th>user_id</th>\n",
       "      <th>cost</th>\n",
       "      <th>item_total</th>\n",
       "      <th>promo_total</th>\n",
       "      <th>total_cost</th>\n",
       "      <th>total_quantity</th>\n",
       "      <th>total_weight</th>\n",
       "    </tr>\n",
       "  </thead>\n",
       "  <tbody>\n",
       "    <tr>\n",
       "      <th>589410</th>\n",
       "      <td>1.0</td>\n",
       "      <td>2018-09-15 12:18:13</td>\n",
       "      <td>264264.0</td>\n",
       "      <td>NaN</td>\n",
       "      <td>2018-10-10 18:00:00</td>\n",
       "      <td>-</td>\n",
       "      <td>3727453.0</td>\n",
       "      <td>940822.0</td>\n",
       "      <td>264264.0</td>\n",
       "      <td>21.0</td>\n",
       "      <td>NaN</td>\n",
       "      <td>10886341.0</td>\n",
       "      <td>55,763787</td>\n",
       "      <td>37,5479152</td>\n",
       "      <td>NaN</td>\n",
       "      <td>3727453.0</td>\n",
       "      <td>1.0</td>\n",
       "      <td>940822.0</td>\n",
       "      <td>2018-10-10 17:31:12</td>\n",
       "      <td>2018-10-10 16:00:00</td>\n",
       "      <td>shipped</td>\n",
       "      <td>canceled</td>\n",
       "      <td>NaN</td>\n",
       "      <td>21.0</td>\n",
       "      <td>21.0</td>\n",
       "      <td>Europe/Moscow</td>\n",
       "      <td>4585.0</td>\n",
       "      <td>497.0</td>\n",
       "      <td>3478.0</td>\n",
       "      <td>0</td>\n",
       "      <td>-99.0</td>\n",
       "      <td>64.0</td>\n",
       "      <td>17877.0</td>\n",
       "    </tr>\n",
       "    <tr>\n",
       "      <th>1192009</th>\n",
       "      <td>1.0</td>\n",
       "      <td>2018-09-18 22:45:05</td>\n",
       "      <td>247582.0</td>\n",
       "      <td>NaN</td>\n",
       "      <td>2018-09-20 13:00:00</td>\n",
       "      <td>2</td>\n",
       "      <td>3641402.0</td>\n",
       "      <td>858935.0</td>\n",
       "      <td>247582.0</td>\n",
       "      <td>21.0</td>\n",
       "      <td>10203446.0</td>\n",
       "      <td>10203397.0</td>\n",
       "      <td>55,7545527</td>\n",
       "      <td>37,6042215</td>\n",
       "      <td>3641402.0</td>\n",
       "      <td>3641402.0</td>\n",
       "      <td>1.0</td>\n",
       "      <td>858935.0</td>\n",
       "      <td>2018-09-20 12:11:22</td>\n",
       "      <td>2018-09-20 11:00:00</td>\n",
       "      <td>shipped</td>\n",
       "      <td>canceled</td>\n",
       "      <td>replaced</td>\n",
       "      <td>21.0</td>\n",
       "      <td>21.0</td>\n",
       "      <td>Europe/Moscow</td>\n",
       "      <td>19214.0</td>\n",
       "      <td>299.0</td>\n",
       "      <td>1755.0</td>\n",
       "      <td>0</td>\n",
       "      <td>-99.0</td>\n",
       "      <td>31.0</td>\n",
       "      <td>35228.0</td>\n",
       "    </tr>\n",
       "    <tr>\n",
       "      <th>1857120</th>\n",
       "      <td>1.0</td>\n",
       "      <td>2018-06-30 12:59:43</td>\n",
       "      <td>188544.0</td>\n",
       "      <td>NaN</td>\n",
       "      <td>2018-08-07 15:00:00</td>\n",
       "      <td>1</td>\n",
       "      <td>3550660.0</td>\n",
       "      <td>147074.0</td>\n",
       "      <td>188544.0</td>\n",
       "      <td>68.0</td>\n",
       "      <td>8468250.0</td>\n",
       "      <td>8468269.0</td>\n",
       "      <td>55,6130965</td>\n",
       "      <td>37,6994904</td>\n",
       "      <td>3550660.0</td>\n",
       "      <td>3550660.0</td>\n",
       "      <td>1.0</td>\n",
       "      <td>147074.0</td>\n",
       "      <td>2018-08-07 14:09:07</td>\n",
       "      <td>2018-08-07 13:00:00</td>\n",
       "      <td>shipped</td>\n",
       "      <td>canceled</td>\n",
       "      <td>replaced</td>\n",
       "      <td>68.0</td>\n",
       "      <td>68.0</td>\n",
       "      <td>Europe/Moscow</td>\n",
       "      <td>17157.0</td>\n",
       "      <td>398.0</td>\n",
       "      <td>4457.0</td>\n",
       "      <td>0</td>\n",
       "      <td>-298.0</td>\n",
       "      <td>55.0</td>\n",
       "      <td>99600.0</td>\n",
       "    </tr>\n",
       "    <tr>\n",
       "      <th>3680679</th>\n",
       "      <td>1.0</td>\n",
       "      <td>2018-09-19 04:12:17</td>\n",
       "      <td>247485.0</td>\n",
       "      <td>passenger</td>\n",
       "      <td>2018-09-20 15:00:00</td>\n",
       "      <td>13</td>\n",
       "      <td>3449644.0</td>\n",
       "      <td>274349.0</td>\n",
       "      <td>247485.0</td>\n",
       "      <td>11.0</td>\n",
       "      <td>NaN</td>\n",
       "      <td>10206427.0</td>\n",
       "      <td>55,7354736</td>\n",
       "      <td>37,413209</td>\n",
       "      <td>NaN</td>\n",
       "      <td>3449644.0</td>\n",
       "      <td>1.0</td>\n",
       "      <td>274349.0</td>\n",
       "      <td>2018-09-20 14:36:11</td>\n",
       "      <td>2018-09-20 13:00:00</td>\n",
       "      <td>shipped</td>\n",
       "      <td>canceled</td>\n",
       "      <td>NaN</td>\n",
       "      <td>11.0</td>\n",
       "      <td>11.0</td>\n",
       "      <td>Europe/Moscow</td>\n",
       "      <td>60247.0</td>\n",
       "      <td>299.0</td>\n",
       "      <td>3574.0</td>\n",
       "      <td>0</td>\n",
       "      <td>-148.0</td>\n",
       "      <td>43.0</td>\n",
       "      <td>35357.0</td>\n",
       "    </tr>\n",
       "  </tbody>\n",
       "</table>\n",
       "</div>"
      ],
      "text/plain": [
       "         city          created_at  delivery_window_id   elevator  \\\n",
       "589410    1.0 2018-09-15 12:18:13            264264.0        NaN   \n",
       "1192009   1.0 2018-09-18 22:45:05            247582.0        NaN   \n",
       "1857120   1.0 2018-06-30 12:59:43            188544.0        NaN   \n",
       "3680679   1.0 2018-09-19 04:12:17            247485.0  passenger   \n",
       "\n",
       "                    ends_at floor         id  id (addresses)  \\\n",
       "589410  2018-10-10 18:00:00     -  3727453.0        940822.0   \n",
       "1192009 2018-09-20 13:00:00     2  3641402.0        858935.0   \n",
       "1857120 2018-08-07 15:00:00     1  3550660.0        147074.0   \n",
       "3680679 2018-09-20 15:00:00    13  3449644.0        274349.0   \n",
       "\n",
       "         id (delivery_windows)  id (stores)     item_id  \\\n",
       "589410                264264.0         21.0         NaN   \n",
       "1192009               247582.0         21.0  10203446.0   \n",
       "1857120               188544.0         68.0   8468250.0   \n",
       "3680679               247485.0         11.0         NaN   \n",
       "\n",
       "         item_id (cancellations)         lat         lon   order_id  \\\n",
       "589410                10886341.0   55,763787  37,5479152        NaN   \n",
       "1192009               10203397.0  55,7545527  37,6042215  3641402.0   \n",
       "1857120                8468269.0  55,6130965  37,6994904  3550660.0   \n",
       "3680679               10206427.0  55,7354736   37,413209        NaN   \n",
       "\n",
       "         order_id (cancellations)  retailer_id  ship_address_id  \\\n",
       "589410                  3727453.0          1.0         940822.0   \n",
       "1192009                 3641402.0          1.0         858935.0   \n",
       "1857120                 3550660.0          1.0         147074.0   \n",
       "3680679                 3449644.0          1.0         274349.0   \n",
       "\n",
       "                 shipped_at           starts_at    state  \\\n",
       "589410  2018-10-10 17:31:12 2018-10-10 16:00:00  shipped   \n",
       "1192009 2018-09-20 12:11:22 2018-09-20 11:00:00  shipped   \n",
       "1857120 2018-08-07 14:09:07 2018-08-07 13:00:00  shipped   \n",
       "3680679 2018-09-20 14:36:11 2018-09-20 13:00:00  shipped   \n",
       "\n",
       "        state (cancellations) state (replacements)  store_id  \\\n",
       "589410               canceled                  NaN      21.0   \n",
       "1192009              canceled             replaced      21.0   \n",
       "1857120              canceled             replaced      68.0   \n",
       "3680679              canceled                  NaN      11.0   \n",
       "\n",
       "         store_id (delivery_windows)      time_zone  user_id   cost  \\\n",
       "589410                          21.0  Europe/Moscow   4585.0  497.0   \n",
       "1192009                         21.0  Europe/Moscow  19214.0  299.0   \n",
       "1857120                         68.0  Europe/Moscow  17157.0  398.0   \n",
       "3680679                         11.0  Europe/Moscow  60247.0  299.0   \n",
       "\n",
       "         item_total promo_total  total_cost  total_quantity  total_weight  \n",
       "589410       3478.0           0       -99.0            64.0       17877.0  \n",
       "1192009      1755.0           0       -99.0            31.0       35228.0  \n",
       "1857120      4457.0           0      -298.0            55.0       99600.0  \n",
       "3680679      3574.0           0      -148.0            43.0       35357.0  "
      ]
     },
     "execution_count": 16,
     "metadata": {},
     "output_type": "execute_result"
    }
   ],
   "source": [
    "df.loc[df.total_cost < 0]"
   ]
  },
  {
   "cell_type": "markdown",
   "metadata": {},
   "source": [
    "Вывод статистики показал, что в сумме доставки есть отрицательные значения. Предположим, что по каким то обстоятельствам, доставку вычли из суммы заказа или из зп курьера."
   ]
  },
  {
   "cell_type": "markdown",
   "metadata": {},
   "source": [
    "Посмотрим на распределения количественных переменных"
   ]
  },
  {
   "cell_type": "code",
   "execution_count": 17,
   "metadata": {},
   "outputs": [
    {
     "data": {
      "image/png": "[encoded data removed]",
      "text/plain": [
       "<Figure size 648x432 with 1 Axes>"
      ]
     },
     "metadata": {},
     "output_type": "display_data"
    }
   ],
   "source": [
    "plt.figure(figsize=(9,6))\n",
    "sns.distplot(df['item_total'])\n",
    "plt.title('Распределение суммы товаров в корзине')\n",
    "plt.xlabel('Сумма товаров')\n",
    "plt.ylabel('Частота')\n",
    "plt.show()"
   ]
  },
  {
   "cell_type": "code",
   "execution_count": 18,
   "metadata": {
    "scrolled": true
   },
   "outputs": [
    {
     "data": {
      "image/png": "[encoded data removed]",
      "text/plain": [
       "<Figure size 648x432 with 1 Axes>"
      ]
     },
     "metadata": {},
     "output_type": "display_data"
    }
   ],
   "source": [
    "plt.figure(figsize=(9,6))\n",
    "sns.distplot(df['total_quantity'])\n",
    "plt.title('Распределение количество едениц товаров')\n",
    "plt.xlabel('Количество')\n",
    "plt.ylabel('Частота')\n",
    "plt.show()"
   ]
  },
  {
   "cell_type": "code",
   "execution_count": 19,
   "metadata": {
    "scrolled": true
   },
   "outputs": [
    {
     "data": {
      "image/png": "[encoded data removed]",
      "text/plain": [
       "<Figure size 648x432 with 1 Axes>"
      ]
     },
     "metadata": {},
     "output_type": "display_data"
    }
   ],
   "source": [
    "plt.figure(figsize=(9,6))\n",
    "sns.distplot(df['total_cost'])\n",
    "plt.title('Распределение финальной стоимости доставки')\n",
    "plt.xlabel('Количество')\n",
    "plt.ylabel('Частота')\n",
    "plt.show()"
   ]
  },
  {
   "cell_type": "markdown",
   "metadata": {},
   "source": [
    "В количественных переменных присутсвуют \"выбросы\". "
   ]
  },
  {
   "cell_type": "code",
   "execution_count": 20,
   "metadata": {},
   "outputs": [
    {
     "data": {
      "text/plain": [
       "shipped     0.999943\n",
       "canceled    0.000036\n",
       "pending     0.000021\n",
       "Name: state, dtype: float64"
      ]
     },
     "execution_count": 20,
     "metadata": {},
     "output_type": "execute_result"
    }
   ],
   "source": [
    "# посмотрим на переменную state\n",
    "df['state'].value_counts(normalize = True)"
   ]
  },
  {
   "cell_type": "code",
   "execution_count": 21,
   "metadata": {},
   "outputs": [
    {
     "data": {
      "text/plain": [
       "<matplotlib.axes._subplots.AxesSubplot at 0x1de2fae3a58>"
      ]
     },
     "execution_count": 21,
     "metadata": {},
     "output_type": "execute_result"
    },
    {
     "data": {
      "image/png": "[encoded data removed]",
      "text/plain": [
       "<Figure size 432x288 with 1 Axes>"
      ]
     },
     "metadata": {},
     "output_type": "display_data"
    }
   ],
   "source": [
    "# Посмотрим на диапазон времени\n",
    "df.groupby(df.shipped_at.dt.year)['shipped_at'].nunique().plot(kind='bar')"
   ]
  },
  {
   "cell_type": "markdown",
   "metadata": {},
   "source": [
    "### Анализ основных KPI"
   ]
  },
  {
   "cell_type": "markdown",
   "metadata": {},
   "source": [
    "#### Annual Revenue"
   ]
  },
  {
   "cell_type": "code",
   "execution_count": 22,
   "metadata": {},
   "outputs": [
    {
     "data": {
      "text/plain": [
       "shipped_at\n",
       "2018    719347616.0\n",
       "2019    917259995.0\n",
       "Name: item_total, dtype: float64"
      ]
     },
     "execution_count": 22,
     "metadata": {},
     "output_type": "execute_result"
    }
   ],
   "source": [
    "df.groupby(df.shipped_at.dt.year)['item_total'].sum()"
   ]
  },
  {
   "cell_type": "code",
   "execution_count": 23,
   "metadata": {},
   "outputs": [
    {
     "data": {
      "image/png": "[encoded data removed]",
      "text/plain": [
       "<Figure size 864x432 with 1 Axes>"
      ]
     },
     "metadata": {},
     "output_type": "display_data"
    }
   ],
   "source": [
    "#Annual Revenue\n",
    "plt.figure(figsize=(12,6))\n",
    "df.groupby(df.shipped_at.dt.year)['item_total'].sum().plot()\n",
    "plt.xlabel('year')\n",
    "plt.ylabel('Revenue')\n",
    "plt.title('Annual Revenue')\n",
    "plt.xticks(np.arange(2018,2020,1))\n",
    "plt.show()\n"
   ]
  },
  {
   "cell_type": "markdown",
   "metadata": {},
   "source": [
    "Данные за 2 года показывают существенную динамику роста. Далее посмотрим на ежемесячный доход"
   ]
  },
  {
   "cell_type": "markdown",
   "metadata": {},
   "source": [
    "#### Monthly Revenue"
   ]
  },
  {
   "cell_type": "code",
   "execution_count": 24,
   "metadata": {},
   "outputs": [],
   "source": [
    "monthly_revenue = df.groupby([df.shipped_at.dt.year,df.shipped_at.dt.month]).agg({'item_total': \"sum\"})"
   ]
  },
  {
   "cell_type": "code",
   "execution_count": 25,
   "metadata": {},
   "outputs": [],
   "source": [
    "monthly_revenue.index = monthly_revenue.index.set_names(['year', 'month'])"
   ]
  },
  {
   "cell_type": "code",
   "execution_count": 26,
   "metadata": {},
   "outputs": [],
   "source": [
    "monthly_revenue.reset_index(inplace=True)"
   ]
  },
  {
   "cell_type": "code",
   "execution_count": 27,
   "metadata": {},
   "outputs": [
    {
     "data": {
      "image/png": "[encoded data removed]",
      "text/plain": [
       "<Figure size 720x432 with 1 Axes>"
      ]
     },
     "metadata": {},
     "output_type": "display_data"
    }
   ],
   "source": [
    "#Monthly Revenue\n",
    "plt.figure(figsize=(10,6))\n",
    "sns.lineplot(x=\"month\", y='item_total',hue=\"year\", data=monthly_revenue)\n",
    "plt.xlabel('Month')\n",
    "plt.ylabel('Sales')\n",
    "plt.title('Monthly Revenue')\n",
    "plt.show()"
   ]
  },
  {
   "cell_type": "markdown",
   "metadata": {},
   "source": [
    "В 2019 наблюдается аномальный упадок в продажах либо существенная потеря в данных."
   ]
  },
  {
   "cell_type": "markdown",
   "metadata": {},
   "source": [
    "#### Ежемесячный темп роста"
   ]
  },
  {
   "cell_type": "code",
   "execution_count": 28,
   "metadata": {},
   "outputs": [
    {
     "data": {
      "text/html": [
       "<div>\n",
       "<style scoped>\n",
       "    .dataframe tbody tr th:only-of-type {\n",
       "        vertical-align: middle;\n",
       "    }\n",
       "\n",
       "    .dataframe tbody tr th {\n",
       "        vertical-align: top;\n",
       "    }\n",
       "\n",
       "    .dataframe thead th {\n",
       "        text-align: right;\n",
       "    }\n",
       "</style>\n",
       "<table border=\"1\" class=\"dataframe\">\n",
       "  <thead>\n",
       "    <tr style=\"text-align: right;\">\n",
       "      <th></th>\n",
       "      <th>year</th>\n",
       "      <th>month</th>\n",
       "      <th>item_total</th>\n",
       "      <th>monthly_growth</th>\n",
       "    </tr>\n",
       "  </thead>\n",
       "  <tbody>\n",
       "    <tr>\n",
       "      <th>0</th>\n",
       "      <td>2018</td>\n",
       "      <td>1</td>\n",
       "      <td>45839557.0</td>\n",
       "      <td>NaN</td>\n",
       "    </tr>\n",
       "    <tr>\n",
       "      <th>1</th>\n",
       "      <td>2018</td>\n",
       "      <td>2</td>\n",
       "      <td>41949176.0</td>\n",
       "      <td>-0.084870</td>\n",
       "    </tr>\n",
       "    <tr>\n",
       "      <th>2</th>\n",
       "      <td>2018</td>\n",
       "      <td>3</td>\n",
       "      <td>45534541.0</td>\n",
       "      <td>0.085469</td>\n",
       "    </tr>\n",
       "    <tr>\n",
       "      <th>3</th>\n",
       "      <td>2018</td>\n",
       "      <td>4</td>\n",
       "      <td>50916198.0</td>\n",
       "      <td>0.118188</td>\n",
       "    </tr>\n",
       "    <tr>\n",
       "      <th>4</th>\n",
       "      <td>2018</td>\n",
       "      <td>5</td>\n",
       "      <td>59622261.0</td>\n",
       "      <td>0.170988</td>\n",
       "    </tr>\n",
       "  </tbody>\n",
       "</table>\n",
       "</div>"
      ],
      "text/plain": [
       "   year  month  item_total  monthly_growth\n",
       "0  2018      1  45839557.0             NaN\n",
       "1  2018      2  41949176.0       -0.084870\n",
       "2  2018      3  45534541.0        0.085469\n",
       "3  2018      4  50916198.0        0.118188\n",
       "4  2018      5  59622261.0        0.170988"
      ]
     },
     "execution_count": 28,
     "metadata": {},
     "output_type": "execute_result"
    }
   ],
   "source": [
    "monthly_revenue['monthly_growth'] = monthly_revenue['item_total'].pct_change()\n",
    "monthly_revenue.head()"
   ]
  },
  {
   "cell_type": "code",
   "execution_count": 29,
   "metadata": {},
   "outputs": [
    {
     "data": {
      "image/png": "[encoded data removed]",
      "text/plain": [
       "<Figure size 720x432 with 1 Axes>"
      ]
     },
     "metadata": {},
     "output_type": "display_data"
    }
   ],
   "source": [
    "#Monthly Sales Growth Rate\n",
    "plt.figure(figsize=(10,6))\n",
    "sns.lineplot(x=\"month\", y=\"monthly_growth\",hue=\"year\", data=monthly_revenue)\n",
    "plt.xlabel('Month')\n",
    "plt.ylabel('Sales')\n",
    "plt.title('Monthly Sales Growth Rate')\n",
    "plt.show()"
   ]
  },
  {
   "cell_type": "markdown",
   "metadata": {},
   "source": [
    "По данному графику можно оценить тренды сезонности для прогнозирования продаж. Так же видим аномальный упадок в 8 месяцу 2019г."
   ]
  },
  {
   "cell_type": "markdown",
   "metadata": {},
   "source": [
    "#### Топ-10 клиентов"
   ]
  },
  {
   "cell_type": "code",
   "execution_count": 59,
   "metadata": {},
   "outputs": [
    {
     "data": {
      "image/png": "[encoded data removed]",
      "text/plain": [
       "<Figure size 720x432 with 1 Axes>"
      ]
     },
     "metadata": {},
     "output_type": "display_data"
    }
   ],
   "source": [
    "plt.figure(figsize=(10,6))\n",
    "top_stores = df.groupby(['user_id'])['item_total'].sum().sort_values(ascending=False)\n",
    "top_stores.iloc[:10].plot(kind = 'bar')\n",
    "plt.title('Top 10 client id')\n",
    "plt.xlabel('Id')\n",
    "plt.ylabel('Total Sales')\n",
    "plt.show()"
   ]
  },
  {
   "cell_type": "markdown",
   "metadata": {},
   "source": [
    "#### Активность клиентов по месяцам"
   ]
  },
  {
   "cell_type": "code",
   "execution_count": 31,
   "metadata": {},
   "outputs": [
    {
     "data": {
      "text/plain": [
       "<Figure size 720x576 with 0 Axes>"
      ]
     },
     "metadata": {},
     "output_type": "display_data"
    },
    {
     "data": {
      "image/png": "[encoded data removed]",
      "text/plain": [
       "<Figure size 432x288 with 1 Axes>"
      ]
     },
     "metadata": {},
     "output_type": "display_data"
    }
   ],
   "source": [
    "plt.figure(figsize=(10,8))\n",
    "df['year_month'] = df.shipped_at.dt.year.map(str)+df.shipped_at.dt.month.map(str).map(lambda x: x.rjust(2,'0'))\n",
    "monthly_active = df.groupby(['year_month'])['user_id'].nunique().reset_index()\n",
    "monthly_active.plot(kind='bar', x='year_month', y='user_id')\n",
    "plt.title('Monthly Active Customers')\n",
    "plt.xlabel('Year/Month')\n",
    "plt.ylabel('Number of Unique Customers')\n",
    "plt.xticks(rotation=90)\n",
    "plt.show();"
   ]
  },
  {
   "cell_type": "markdown",
   "metadata": {},
   "source": [
    "До 08.2019 видим рост клиенсткой активности, далее как было сказано выше, наблюдается аномалия в данных после 07.2019"
   ]
  },
  {
   "cell_type": "markdown",
   "metadata": {},
   "source": [
    "#### Средняя сумма заказа"
   ]
  },
  {
   "cell_type": "code",
   "execution_count": 32,
   "metadata": {},
   "outputs": [],
   "source": [
    "average_revenue = df.groupby([df.shipped_at.dt.year,df.shipped_at.dt.month]).agg({'item_total': \"mean\"})\n",
    "average_revenue.index = average_revenue.index.set_names(['year', 'month'])\n",
    "average_revenue.reset_index(inplace=True)"
   ]
  },
  {
   "cell_type": "code",
   "execution_count": 33,
   "metadata": {},
   "outputs": [
    {
     "data": {
      "image/png": "[encoded data removed]",
      "text/plain": [
       "<Figure size 720x432 with 1 Axes>"
      ]
     },
     "metadata": {},
     "output_type": "display_data"
    }
   ],
   "source": [
    "plt.figure(figsize=(10,6))\n",
    "sns.lineplot(x=\"month\", y=\"item_total\",hue=\"year\", data=average_revenue)\n",
    "plt.xlabel('Month')\n",
    "plt.ylabel('Average Sales')\n",
    "plt.title('Average Sales per Order')\n",
    "plt.show()"
   ]
  },
  {
   "cell_type": "markdown",
   "metadata": {},
   "source": [
    "В 7-ом месяце, наблюдаем аномальный рост средей покупки"
   ]
  },
  {
   "cell_type": "markdown",
   "metadata": {},
   "source": [
    "#### Темпы роста новых клиентов"
   ]
  },
  {
   "cell_type": "code",
   "execution_count": 34,
   "metadata": {},
   "outputs": [
    {
     "data": {
      "image/png": "[encoded data removed]",
      "text/plain": [
       "<Figure size 720x432 with 1 Axes>"
      ]
     },
     "metadata": {},
     "output_type": "display_data"
    }
   ],
   "source": [
    "#New Customers Growth Rate\n",
    "df_first_purchase = df.groupby('user_id').year_month.min().reset_index()\n",
    "df_first_purchase.columns = ['user_id','FirstPurchaseDate']\n",
    "plt.figure(figsize=(10,6))\n",
    "df_first_purchase.groupby(['FirstPurchaseDate'])['user_id'].nunique().pct_change().plot(kind='bar')\n",
    "plt.title('New Customers Growth Rate')\n",
    "plt.xlabel('YearMonth')\n",
    "plt.ylabel('Percentage Growth Rate')\n",
    "plt.show()"
   ]
  },
  {
   "cell_type": "markdown",
   "metadata": {},
   "source": [
    "Под новыми клиентами подразумеваются клиенты, которые сделали первую покупку в нашем временном окне.\n",
    "В январе 2019 наивысший прирост новых клиентов, скорее всего, объясняемые длинными выходными и праздниками."
   ]
  },
  {
   "cell_type": "markdown",
   "metadata": {},
   "source": [
    "### RFM-analysis"
   ]
  },
  {
   "cell_type": "markdown",
   "metadata": {},
   "source": [
    "RFM-анализ — метод анализа, позволяющий сегментировать клиентов по частоте и сумме покупок и выявлять тех клиентов, которые приносят больше денег.\n",
    "\n",
    "Аббревиатура RFM расшифровывается:\n",
    "\n",
    "Recency — давность (как давно ваши клиенты что-то у вас покупали);  \n",
    "Frequency — частота (как часто они у вас покупают);  \n",
    "Monetary — деньги (общая сумма покупок)."
   ]
  },
  {
   "cell_type": "code",
   "execution_count": 35,
   "metadata": {},
   "outputs": [
    {
     "data": {
      "text/html": [
       "<div>\n",
       "<style scoped>\n",
       "    .dataframe tbody tr th:only-of-type {\n",
       "        vertical-align: middle;\n",
       "    }\n",
       "\n",
       "    .dataframe tbody tr th {\n",
       "        vertical-align: top;\n",
       "    }\n",
       "\n",
       "    .dataframe thead th {\n",
       "        text-align: right;\n",
       "    }\n",
       "</style>\n",
       "<table border=\"1\" class=\"dataframe\">\n",
       "  <thead>\n",
       "    <tr style=\"text-align: right;\">\n",
       "      <th></th>\n",
       "      <th>city</th>\n",
       "      <th>created_at</th>\n",
       "      <th>delivery_window_id</th>\n",
       "      <th>elevator</th>\n",
       "      <th>ends_at</th>\n",
       "      <th>floor</th>\n",
       "      <th>id</th>\n",
       "      <th>id (addresses)</th>\n",
       "      <th>id (delivery_windows)</th>\n",
       "      <th>id (stores)</th>\n",
       "      <th>item_id</th>\n",
       "      <th>item_id (cancellations)</th>\n",
       "      <th>lat</th>\n",
       "      <th>lon</th>\n",
       "      <th>order_id</th>\n",
       "      <th>order_id (cancellations)</th>\n",
       "      <th>retailer_id</th>\n",
       "      <th>ship_address_id</th>\n",
       "      <th>shipped_at</th>\n",
       "      <th>starts_at</th>\n",
       "      <th>state</th>\n",
       "      <th>state (cancellations)</th>\n",
       "      <th>state (replacements)</th>\n",
       "      <th>store_id</th>\n",
       "      <th>store_id (delivery_windows)</th>\n",
       "      <th>time_zone</th>\n",
       "      <th>user_id</th>\n",
       "      <th>cost</th>\n",
       "      <th>item_total</th>\n",
       "      <th>promo_total</th>\n",
       "      <th>total_cost</th>\n",
       "      <th>total_quantity</th>\n",
       "      <th>total_weight</th>\n",
       "      <th>year_month</th>\n",
       "      <th>order_date</th>\n",
       "    </tr>\n",
       "  </thead>\n",
       "  <tbody>\n",
       "    <tr>\n",
       "      <th>7</th>\n",
       "      <td>1.0</td>\n",
       "      <td>2018-11-07 21:55:37</td>\n",
       "      <td>190792.0</td>\n",
       "      <td>passenger</td>\n",
       "      <td>2018-12-07 21:00:00</td>\n",
       "      <td>1</td>\n",
       "      <td>3544664.0</td>\n",
       "      <td>81323.0</td>\n",
       "      <td>190792.0</td>\n",
       "      <td>11.0</td>\n",
       "      <td>NaN</td>\n",
       "      <td>8543522.0</td>\n",
       "      <td>55,7354883</td>\n",
       "      <td>37,4025934</td>\n",
       "      <td>NaN</td>\n",
       "      <td>3544664.0</td>\n",
       "      <td>1.0</td>\n",
       "      <td>81323.0</td>\n",
       "      <td>2018-12-07 19:35:03</td>\n",
       "      <td>2018-12-07 19:00:00</td>\n",
       "      <td>shipped</td>\n",
       "      <td>canceled</td>\n",
       "      <td>NaN</td>\n",
       "      <td>11.0</td>\n",
       "      <td>11.0</td>\n",
       "      <td>Europe/Moscow</td>\n",
       "      <td>27769.0</td>\n",
       "      <td>299.0</td>\n",
       "      <td>2903.0</td>\n",
       "      <td>0</td>\n",
       "      <td>299.0</td>\n",
       "      <td>34.0</td>\n",
       "      <td>17470.0</td>\n",
       "      <td>201812</td>\n",
       "      <td>2018-12-07</td>\n",
       "    </tr>\n",
       "    <tr>\n",
       "      <th>10</th>\n",
       "      <td>1.0</td>\n",
       "      <td>2018-06-26 10:52:31</td>\n",
       "      <td>185399.0</td>\n",
       "      <td>passenger</td>\n",
       "      <td>2018-04-07 13:00:00</td>\n",
       "      <td>9</td>\n",
       "      <td>3472609.0</td>\n",
       "      <td>147576.0</td>\n",
       "      <td>185399.0</td>\n",
       "      <td>14.0</td>\n",
       "      <td>NaN</td>\n",
       "      <td>8376952.0</td>\n",
       "      <td>55,6452012</td>\n",
       "      <td>37,4879612</td>\n",
       "      <td>NaN</td>\n",
       "      <td>3472609.0</td>\n",
       "      <td>1.0</td>\n",
       "      <td>147576.0</td>\n",
       "      <td>2018-04-07 12:33:45</td>\n",
       "      <td>2018-04-07 11:00:00</td>\n",
       "      <td>shipped</td>\n",
       "      <td>canceled</td>\n",
       "      <td>NaN</td>\n",
       "      <td>14.0</td>\n",
       "      <td>14.0</td>\n",
       "      <td>Europe/Moscow</td>\n",
       "      <td>20549.0</td>\n",
       "      <td>199.0</td>\n",
       "      <td>6893.0</td>\n",
       "      <td>0</td>\n",
       "      <td>199.0</td>\n",
       "      <td>26.0</td>\n",
       "      <td>5820.0</td>\n",
       "      <td>201804</td>\n",
       "      <td>2018-04-07</td>\n",
       "    </tr>\n",
       "    <tr>\n",
       "      <th>13</th>\n",
       "      <td>1.0</td>\n",
       "      <td>2018-11-07 14:37:12</td>\n",
       "      <td>190023.0</td>\n",
       "      <td>NaN</td>\n",
       "      <td>2018-11-07 21:00:00</td>\n",
       "      <td>1</td>\n",
       "      <td>3449568.0</td>\n",
       "      <td>241160.0</td>\n",
       "      <td>190023.0</td>\n",
       "      <td>8.0</td>\n",
       "      <td>8536044.0</td>\n",
       "      <td>8536067.0</td>\n",
       "      <td>55,823163</td>\n",
       "      <td>37,828648</td>\n",
       "      <td>3449568.0</td>\n",
       "      <td>3449568.0</td>\n",
       "      <td>1.0</td>\n",
       "      <td>241160.0</td>\n",
       "      <td>2018-11-07 21:01:10</td>\n",
       "      <td>2018-11-07 19:00:00</td>\n",
       "      <td>shipped</td>\n",
       "      <td>canceled</td>\n",
       "      <td>replaced</td>\n",
       "      <td>8.0</td>\n",
       "      <td>8.0</td>\n",
       "      <td>Europe/Moscow</td>\n",
       "      <td>32010.0</td>\n",
       "      <td>299.0</td>\n",
       "      <td>4112.0</td>\n",
       "      <td>0</td>\n",
       "      <td>299.0</td>\n",
       "      <td>30.0</td>\n",
       "      <td>12360.0</td>\n",
       "      <td>201811</td>\n",
       "      <td>2018-11-07</td>\n",
       "    </tr>\n",
       "    <tr>\n",
       "      <th>37</th>\n",
       "      <td>1.0</td>\n",
       "      <td>2018-10-06 14:26:21</td>\n",
       "      <td>224172.0</td>\n",
       "      <td>NaN</td>\n",
       "      <td>2018-08-23 17:00:00</td>\n",
       "      <td>13</td>\n",
       "      <td>3531498.0</td>\n",
       "      <td>244158.0</td>\n",
       "      <td>224172.0</td>\n",
       "      <td>10.0</td>\n",
       "      <td>9340055.0</td>\n",
       "      <td>9339810.0</td>\n",
       "      <td>55,8587156</td>\n",
       "      <td>37,4824748</td>\n",
       "      <td>3531498.0</td>\n",
       "      <td>3531498.0</td>\n",
       "      <td>1.0</td>\n",
       "      <td>244158.0</td>\n",
       "      <td>2018-08-23 17:23:04</td>\n",
       "      <td>2018-08-23 15:00:00</td>\n",
       "      <td>shipped</td>\n",
       "      <td>canceled</td>\n",
       "      <td>replaced</td>\n",
       "      <td>10.0</td>\n",
       "      <td>10.0</td>\n",
       "      <td>Europe/Moscow</td>\n",
       "      <td>40273.0</td>\n",
       "      <td>299.0</td>\n",
       "      <td>5055.0</td>\n",
       "      <td>0</td>\n",
       "      <td>299.0</td>\n",
       "      <td>42.0</td>\n",
       "      <td>13875.0</td>\n",
       "      <td>201808</td>\n",
       "      <td>2018-08-23</td>\n",
       "    </tr>\n",
       "    <tr>\n",
       "      <th>41</th>\n",
       "      <td>1.0</td>\n",
       "      <td>2019-07-27 20:25:47</td>\n",
       "      <td>624251.0</td>\n",
       "      <td>NaN</td>\n",
       "      <td>2019-07-28 15:00:00</td>\n",
       "      <td>17</td>\n",
       "      <td>3028559.0</td>\n",
       "      <td>287030.0</td>\n",
       "      <td>624251.0</td>\n",
       "      <td>12.0</td>\n",
       "      <td>NaN</td>\n",
       "      <td>NaN</td>\n",
       "      <td>55,7616328</td>\n",
       "      <td>37,6825415</td>\n",
       "      <td>NaN</td>\n",
       "      <td>NaN</td>\n",
       "      <td>1.0</td>\n",
       "      <td>287030.0</td>\n",
       "      <td>2019-07-28 13:52:58</td>\n",
       "      <td>2019-07-28 13:00:00</td>\n",
       "      <td>shipped</td>\n",
       "      <td>NaN</td>\n",
       "      <td>NaN</td>\n",
       "      <td>12.0</td>\n",
       "      <td>12.0</td>\n",
       "      <td>Europe/Moscow</td>\n",
       "      <td>631698.0</td>\n",
       "      <td>249.0</td>\n",
       "      <td>1168.0</td>\n",
       "      <td>0</td>\n",
       "      <td>98.0</td>\n",
       "      <td>25.0</td>\n",
       "      <td>2500.0</td>\n",
       "      <td>201907</td>\n",
       "      <td>2019-07-28</td>\n",
       "    </tr>\n",
       "  </tbody>\n",
       "</table>\n",
       "</div>"
      ],
      "text/plain": [
       "    city          created_at  delivery_window_id   elevator  \\\n",
       "7    1.0 2018-11-07 21:55:37            190792.0  passenger   \n",
       "10   1.0 2018-06-26 10:52:31            185399.0  passenger   \n",
       "13   1.0 2018-11-07 14:37:12            190023.0        NaN   \n",
       "37   1.0 2018-10-06 14:26:21            224172.0        NaN   \n",
       "41   1.0 2019-07-27 20:25:47            624251.0        NaN   \n",
       "\n",
       "               ends_at floor         id  id (addresses)  \\\n",
       "7  2018-12-07 21:00:00     1  3544664.0         81323.0   \n",
       "10 2018-04-07 13:00:00     9  3472609.0        147576.0   \n",
       "13 2018-11-07 21:00:00     1  3449568.0        241160.0   \n",
       "37 2018-08-23 17:00:00    13  3531498.0        244158.0   \n",
       "41 2019-07-28 15:00:00    17  3028559.0        287030.0   \n",
       "\n",
       "    id (delivery_windows)  id (stores)    item_id  item_id (cancellations)  \\\n",
       "7                190792.0         11.0        NaN                8543522.0   \n",
       "10               185399.0         14.0        NaN                8376952.0   \n",
       "13               190023.0          8.0  8536044.0                8536067.0   \n",
       "37               224172.0         10.0  9340055.0                9339810.0   \n",
       "41               624251.0         12.0        NaN                      NaN   \n",
       "\n",
       "           lat         lon   order_id  order_id (cancellations)  retailer_id  \\\n",
       "7   55,7354883  37,4025934        NaN                 3544664.0          1.0   \n",
       "10  55,6452012  37,4879612        NaN                 3472609.0          1.0   \n",
       "13   55,823163   37,828648  3449568.0                 3449568.0          1.0   \n",
       "37  55,8587156  37,4824748  3531498.0                 3531498.0          1.0   \n",
       "41  55,7616328  37,6825415        NaN                       NaN          1.0   \n",
       "\n",
       "    ship_address_id          shipped_at           starts_at    state  \\\n",
       "7           81323.0 2018-12-07 19:35:03 2018-12-07 19:00:00  shipped   \n",
       "10         147576.0 2018-04-07 12:33:45 2018-04-07 11:00:00  shipped   \n",
       "13         241160.0 2018-11-07 21:01:10 2018-11-07 19:00:00  shipped   \n",
       "37         244158.0 2018-08-23 17:23:04 2018-08-23 15:00:00  shipped   \n",
       "41         287030.0 2019-07-28 13:52:58 2019-07-28 13:00:00  shipped   \n",
       "\n",
       "   state (cancellations) state (replacements)  store_id  \\\n",
       "7               canceled                  NaN      11.0   \n",
       "10              canceled                  NaN      14.0   \n",
       "13              canceled             replaced       8.0   \n",
       "37              canceled             replaced      10.0   \n",
       "41                   NaN                  NaN      12.0   \n",
       "\n",
       "    store_id (delivery_windows)      time_zone   user_id   cost  item_total  \\\n",
       "7                          11.0  Europe/Moscow   27769.0  299.0      2903.0   \n",
       "10                         14.0  Europe/Moscow   20549.0  199.0      6893.0   \n",
       "13                          8.0  Europe/Moscow   32010.0  299.0      4112.0   \n",
       "37                         10.0  Europe/Moscow   40273.0  299.0      5055.0   \n",
       "41                         12.0  Europe/Moscow  631698.0  249.0      1168.0   \n",
       "\n",
       "   promo_total  total_cost  total_quantity  total_weight year_month  \\\n",
       "7            0       299.0            34.0       17470.0     201812   \n",
       "10           0       199.0            26.0        5820.0     201804   \n",
       "13           0       299.0            30.0       12360.0     201811   \n",
       "37           0       299.0            42.0       13875.0     201808   \n",
       "41           0        98.0            25.0        2500.0     201907   \n",
       "\n",
       "    order_date  \n",
       "7   2018-12-07  \n",
       "10  2018-04-07  \n",
       "13  2018-11-07  \n",
       "37  2018-08-23  \n",
       "41  2019-07-28  "
      ]
     },
     "execution_count": 35,
     "metadata": {},
     "output_type": "execute_result"
    }
   ],
   "source": [
    "df['order_date'] = [d.date() for d in df['shipped_at']]\n",
    "df.head()"
   ]
  },
  {
   "cell_type": "code",
   "execution_count": 36,
   "metadata": {},
   "outputs": [],
   "source": [
    "# Calculate Recency, Frequency and Monetary value for each customer\n",
    "latest_date = df['order_date'].max() + dt.timedelta(days=1) #latest date in the data set\n",
    "df_RFM = df.groupby(['user_id']).agg({\n",
    "    'order_date': lambda x: (latest_date - x.max()).days,\n",
    "    'id': 'count',\n",
    "    'item_total':'sum'})\\\n",
    "    .rename(columns={'order_date':'Recency',\n",
    "                     'id':'Frequency',\n",
    "                     'item_total':'Monetary_value'})"
   ]
  },
  {
   "cell_type": "code",
   "execution_count": 37,
   "metadata": {},
   "outputs": [
    {
     "data": {
      "text/html": [
       "<div>\n",
       "<style scoped>\n",
       "    .dataframe tbody tr th:only-of-type {\n",
       "        vertical-align: middle;\n",
       "    }\n",
       "\n",
       "    .dataframe tbody tr th {\n",
       "        vertical-align: top;\n",
       "    }\n",
       "\n",
       "    .dataframe thead th {\n",
       "        text-align: right;\n",
       "    }\n",
       "</style>\n",
       "<table border=\"1\" class=\"dataframe\">\n",
       "  <thead>\n",
       "    <tr style=\"text-align: right;\">\n",
       "      <th></th>\n",
       "      <th>Recency</th>\n",
       "      <th>Frequency</th>\n",
       "      <th>Monetary_value</th>\n",
       "    </tr>\n",
       "    <tr>\n",
       "      <th>user_id</th>\n",
       "      <th></th>\n",
       "      <th></th>\n",
       "      <th></th>\n",
       "    </tr>\n",
       "  </thead>\n",
       "  <tbody>\n",
       "    <tr>\n",
       "      <th>31.0</th>\n",
       "      <td>2</td>\n",
       "      <td>49</td>\n",
       "      <td>604857.0</td>\n",
       "    </tr>\n",
       "    <tr>\n",
       "      <th>45.0</th>\n",
       "      <td>36</td>\n",
       "      <td>40</td>\n",
       "      <td>101893.0</td>\n",
       "    </tr>\n",
       "    <tr>\n",
       "      <th>60.0</th>\n",
       "      <td>522</td>\n",
       "      <td>1</td>\n",
       "      <td>6644.0</td>\n",
       "    </tr>\n",
       "    <tr>\n",
       "      <th>63.0</th>\n",
       "      <td>442</td>\n",
       "      <td>1</td>\n",
       "      <td>5215.0</td>\n",
       "    </tr>\n",
       "    <tr>\n",
       "      <th>97.0</th>\n",
       "      <td>402</td>\n",
       "      <td>8</td>\n",
       "      <td>35769.0</td>\n",
       "    </tr>\n",
       "  </tbody>\n",
       "</table>\n",
       "</div>"
      ],
      "text/plain": [
       "         Recency  Frequency  Monetary_value\n",
       "user_id                                    \n",
       "31.0           2         49        604857.0\n",
       "45.0          36         40        101893.0\n",
       "60.0         522          1          6644.0\n",
       "63.0         442          1          5215.0\n",
       "97.0         402          8         35769.0"
      ]
     },
     "execution_count": 37,
     "metadata": {},
     "output_type": "execute_result"
    }
   ],
   "source": [
    "df_RFM.head()"
   ]
  },
  {
   "cell_type": "markdown",
   "metadata": {},
   "source": [
    "Разделим клиентов на 3 сегмента. Количество сегментов выбрал рандомно.\n",
    "\n",
    "Recency/Frequency/MonetaryValue : Level 3> Level 2 > Level 1\n",
    "\n",
    "Lower the recency, higher the Recency level  \n",
    "Higher the number of orders, higher the Frequency level  \n",
    "Higher the monetary value, higher the MonetaryValue level  "
   ]
  },
  {
   "cell_type": "code",
   "execution_count": 38,
   "metadata": {},
   "outputs": [
    {
     "data": {
      "text/html": [
       "<div>\n",
       "<style scoped>\n",
       "    .dataframe tbody tr th:only-of-type {\n",
       "        vertical-align: middle;\n",
       "    }\n",
       "\n",
       "    .dataframe tbody tr th {\n",
       "        vertical-align: top;\n",
       "    }\n",
       "\n",
       "    .dataframe thead th {\n",
       "        text-align: right;\n",
       "    }\n",
       "</style>\n",
       "<table border=\"1\" class=\"dataframe\">\n",
       "  <thead>\n",
       "    <tr style=\"text-align: right;\">\n",
       "      <th></th>\n",
       "      <th>Recency</th>\n",
       "      <th>Frequency</th>\n",
       "      <th>Monetary_value</th>\n",
       "      <th>R</th>\n",
       "      <th>F</th>\n",
       "      <th>M</th>\n",
       "    </tr>\n",
       "    <tr>\n",
       "      <th>user_id</th>\n",
       "      <th></th>\n",
       "      <th></th>\n",
       "      <th></th>\n",
       "      <th></th>\n",
       "      <th></th>\n",
       "      <th></th>\n",
       "    </tr>\n",
       "  </thead>\n",
       "  <tbody>\n",
       "    <tr>\n",
       "      <th>31.0</th>\n",
       "      <td>2</td>\n",
       "      <td>49</td>\n",
       "      <td>604857.0</td>\n",
       "      <td>3</td>\n",
       "      <td>2</td>\n",
       "      <td>3</td>\n",
       "    </tr>\n",
       "    <tr>\n",
       "      <th>45.0</th>\n",
       "      <td>36</td>\n",
       "      <td>40</td>\n",
       "      <td>101893.0</td>\n",
       "      <td>3</td>\n",
       "      <td>2</td>\n",
       "      <td>3</td>\n",
       "    </tr>\n",
       "    <tr>\n",
       "      <th>60.0</th>\n",
       "      <td>522</td>\n",
       "      <td>1</td>\n",
       "      <td>6644.0</td>\n",
       "      <td>1</td>\n",
       "      <td>1</td>\n",
       "      <td>2</td>\n",
       "    </tr>\n",
       "    <tr>\n",
       "      <th>63.0</th>\n",
       "      <td>442</td>\n",
       "      <td>1</td>\n",
       "      <td>5215.0</td>\n",
       "      <td>1</td>\n",
       "      <td>1</td>\n",
       "      <td>2</td>\n",
       "    </tr>\n",
       "    <tr>\n",
       "      <th>97.0</th>\n",
       "      <td>402</td>\n",
       "      <td>8</td>\n",
       "      <td>35769.0</td>\n",
       "      <td>1</td>\n",
       "      <td>2</td>\n",
       "      <td>3</td>\n",
       "    </tr>\n",
       "  </tbody>\n",
       "</table>\n",
       "</div>"
      ],
      "text/plain": [
       "         Recency  Frequency  Monetary_value  R  F  M\n",
       "user_id                                             \n",
       "31.0           2         49        604857.0  3  2  3\n",
       "45.0          36         40        101893.0  3  2  3\n",
       "60.0         522          1          6644.0  1  1  2\n",
       "63.0         442          1          5215.0  1  1  2\n",
       "97.0         402          8         35769.0  1  2  3"
      ]
     },
     "execution_count": 38,
     "metadata": {},
     "output_type": "execute_result"
    }
   ],
   "source": [
    "MonetaryValue_quartile = pd.qcut(df_RFM['Monetary_value'], q=3, labels=range(1,4))\n",
    "Recency_quartile = pd.qcut(df_RFM['Recency'], q=3, labels=list(range(3, 0, -1)))\n",
    "Frequency_quartile = pd.qcut(df_RFM['Frequency'], q=[.5, .75, 1.], labels=range(1,3))\n",
    "\n",
    "df_RFM['R'] = Recency_quartile\n",
    "df_RFM['F'] = Frequency_quartile\n",
    "df_RFM['M'] = MonetaryValue_quartile\n",
    "\n",
    "df_RFM.head()"
   ]
  },
  {
   "cell_type": "markdown",
   "metadata": {},
   "source": [
    "#### RFM-score"
   ]
  },
  {
   "cell_type": "code",
   "execution_count": 39,
   "metadata": {},
   "outputs": [
    {
     "data": {
      "text/html": [
       "<div>\n",
       "<style scoped>\n",
       "    .dataframe tbody tr th:only-of-type {\n",
       "        vertical-align: middle;\n",
       "    }\n",
       "\n",
       "    .dataframe tbody tr th {\n",
       "        vertical-align: top;\n",
       "    }\n",
       "\n",
       "    .dataframe thead th {\n",
       "        text-align: right;\n",
       "    }\n",
       "</style>\n",
       "<table border=\"1\" class=\"dataframe\">\n",
       "  <thead>\n",
       "    <tr style=\"text-align: right;\">\n",
       "      <th></th>\n",
       "      <th>Recency</th>\n",
       "      <th>Frequency</th>\n",
       "      <th>Monetary_value</th>\n",
       "      <th>R</th>\n",
       "      <th>F</th>\n",
       "      <th>M</th>\n",
       "      <th>RFM_Score</th>\n",
       "    </tr>\n",
       "    <tr>\n",
       "      <th>user_id</th>\n",
       "      <th></th>\n",
       "      <th></th>\n",
       "      <th></th>\n",
       "      <th></th>\n",
       "      <th></th>\n",
       "      <th></th>\n",
       "      <th></th>\n",
       "    </tr>\n",
       "  </thead>\n",
       "  <tbody>\n",
       "    <tr>\n",
       "      <th>31.0</th>\n",
       "      <td>2</td>\n",
       "      <td>49</td>\n",
       "      <td>604857.0</td>\n",
       "      <td>3</td>\n",
       "      <td>2</td>\n",
       "      <td>3</td>\n",
       "      <td>8</td>\n",
       "    </tr>\n",
       "    <tr>\n",
       "      <th>45.0</th>\n",
       "      <td>36</td>\n",
       "      <td>40</td>\n",
       "      <td>101893.0</td>\n",
       "      <td>3</td>\n",
       "      <td>2</td>\n",
       "      <td>3</td>\n",
       "      <td>8</td>\n",
       "    </tr>\n",
       "    <tr>\n",
       "      <th>60.0</th>\n",
       "      <td>522</td>\n",
       "      <td>1</td>\n",
       "      <td>6644.0</td>\n",
       "      <td>1</td>\n",
       "      <td>1</td>\n",
       "      <td>2</td>\n",
       "      <td>4</td>\n",
       "    </tr>\n",
       "    <tr>\n",
       "      <th>63.0</th>\n",
       "      <td>442</td>\n",
       "      <td>1</td>\n",
       "      <td>5215.0</td>\n",
       "      <td>1</td>\n",
       "      <td>1</td>\n",
       "      <td>2</td>\n",
       "      <td>4</td>\n",
       "    </tr>\n",
       "    <tr>\n",
       "      <th>97.0</th>\n",
       "      <td>402</td>\n",
       "      <td>8</td>\n",
       "      <td>35769.0</td>\n",
       "      <td>1</td>\n",
       "      <td>2</td>\n",
       "      <td>3</td>\n",
       "      <td>6</td>\n",
       "    </tr>\n",
       "  </tbody>\n",
       "</table>\n",
       "</div>"
      ],
      "text/plain": [
       "         Recency  Frequency  Monetary_value  R  F  M  RFM_Score\n",
       "user_id                                                        \n",
       "31.0           2         49        604857.0  3  2  3          8\n",
       "45.0          36         40        101893.0  3  2  3          8\n",
       "60.0         522          1          6644.0  1  1  2          4\n",
       "63.0         442          1          5215.0  1  1  2          4\n",
       "97.0         402          8         35769.0  1  2  3          6"
      ]
     },
     "execution_count": 39,
     "metadata": {},
     "output_type": "execute_result"
    }
   ],
   "source": [
    "# Calculate RFM_Score\n",
    "df_RFM['RFM_Score'] = df_RFM[['R','F','M']].sum(axis=1)\n",
    "df_RFM.head()"
   ]
  },
  {
   "cell_type": "markdown",
   "metadata": {},
   "source": [
    "RFM Score > 7 - High Value Customer  \n",
    "RFM SCore < 7 and RFM Score >= 4 - Mid Value Customer  \n",
    "RFM Score < 4 - Low Value Customer  "
   ]
  },
  {
   "cell_type": "code",
   "execution_count": 40,
   "metadata": {},
   "outputs": [
    {
     "data": {
      "text/html": [
       "<div>\n",
       "<style scoped>\n",
       "    .dataframe tbody tr th:only-of-type {\n",
       "        vertical-align: middle;\n",
       "    }\n",
       "\n",
       "    .dataframe tbody tr th {\n",
       "        vertical-align: top;\n",
       "    }\n",
       "\n",
       "    .dataframe thead th {\n",
       "        text-align: right;\n",
       "    }\n",
       "</style>\n",
       "<table border=\"1\" class=\"dataframe\">\n",
       "  <thead>\n",
       "    <tr style=\"text-align: right;\">\n",
       "      <th></th>\n",
       "      <th>Recency</th>\n",
       "      <th>Frequency</th>\n",
       "      <th>Monetary_value</th>\n",
       "      <th>R</th>\n",
       "      <th>F</th>\n",
       "      <th>M</th>\n",
       "      <th>RFM_Score</th>\n",
       "      <th>RFM_Level</th>\n",
       "    </tr>\n",
       "    <tr>\n",
       "      <th>user_id</th>\n",
       "      <th></th>\n",
       "      <th></th>\n",
       "      <th></th>\n",
       "      <th></th>\n",
       "      <th></th>\n",
       "      <th></th>\n",
       "      <th></th>\n",
       "      <th></th>\n",
       "    </tr>\n",
       "  </thead>\n",
       "  <tbody>\n",
       "    <tr>\n",
       "      <th>31.0</th>\n",
       "      <td>2</td>\n",
       "      <td>49</td>\n",
       "      <td>604857.0</td>\n",
       "      <td>3</td>\n",
       "      <td>2</td>\n",
       "      <td>3</td>\n",
       "      <td>8</td>\n",
       "      <td>High Value Customer</td>\n",
       "    </tr>\n",
       "    <tr>\n",
       "      <th>45.0</th>\n",
       "      <td>36</td>\n",
       "      <td>40</td>\n",
       "      <td>101893.0</td>\n",
       "      <td>3</td>\n",
       "      <td>2</td>\n",
       "      <td>3</td>\n",
       "      <td>8</td>\n",
       "      <td>High Value Customer</td>\n",
       "    </tr>\n",
       "    <tr>\n",
       "      <th>60.0</th>\n",
       "      <td>522</td>\n",
       "      <td>1</td>\n",
       "      <td>6644.0</td>\n",
       "      <td>1</td>\n",
       "      <td>1</td>\n",
       "      <td>2</td>\n",
       "      <td>4</td>\n",
       "      <td>Mid Value Customer</td>\n",
       "    </tr>\n",
       "    <tr>\n",
       "      <th>63.0</th>\n",
       "      <td>442</td>\n",
       "      <td>1</td>\n",
       "      <td>5215.0</td>\n",
       "      <td>1</td>\n",
       "      <td>1</td>\n",
       "      <td>2</td>\n",
       "      <td>4</td>\n",
       "      <td>Mid Value Customer</td>\n",
       "    </tr>\n",
       "    <tr>\n",
       "      <th>97.0</th>\n",
       "      <td>402</td>\n",
       "      <td>8</td>\n",
       "      <td>35769.0</td>\n",
       "      <td>1</td>\n",
       "      <td>2</td>\n",
       "      <td>3</td>\n",
       "      <td>6</td>\n",
       "      <td>Mid Value Customer</td>\n",
       "    </tr>\n",
       "  </tbody>\n",
       "</table>\n",
       "</div>"
      ],
      "text/plain": [
       "         Recency  Frequency  Monetary_value  R  F  M  RFM_Score  \\\n",
       "user_id                                                           \n",
       "31.0           2         49        604857.0  3  2  3          8   \n",
       "45.0          36         40        101893.0  3  2  3          8   \n",
       "60.0         522          1          6644.0  1  1  2          4   \n",
       "63.0         442          1          5215.0  1  1  2          4   \n",
       "97.0         402          8         35769.0  1  2  3          6   \n",
       "\n",
       "                   RFM_Level  \n",
       "user_id                       \n",
       "31.0     High Value Customer  \n",
       "45.0     High Value Customer  \n",
       "60.0      Mid Value Customer  \n",
       "63.0      Mid Value Customer  \n",
       "97.0      Mid Value Customer  "
      ]
     },
     "execution_count": 40,
     "metadata": {},
     "output_type": "execute_result"
    }
   ],
   "source": [
    "#Naming Levels\n",
    "def rfm_level(df):\n",
    "    if np.bool(df['RFM_Score'] >= 7):\n",
    "        return 'High Value Customer'\n",
    "    elif np.bool((df['RFM_Score'] < 7) & (df['RFM_Score'] >= 4)):\n",
    "        return 'Mid Value Customer'\n",
    "    else:\n",
    "        return 'Low Value Customer'\n",
    "\n",
    "\n",
    "df_RFM['RFM_Level'] = df_RFM.apply(rfm_level, axis=1)\n",
    "\n",
    "df_RFM.head()"
   ]
  },
  {
   "cell_type": "code",
   "execution_count": 41,
   "metadata": {},
   "outputs": [
    {
     "data": {
      "image/png": "[encoded data removed]",
      "text/plain": [
       "<Figure size 720x432 with 1 Axes>"
      ]
     },
     "metadata": {},
     "output_type": "display_data"
    }
   ],
   "source": [
    "plt.figure(figsize=(10,6))\n",
    "df_RFM['RFM_Level'].value_counts(normalize = True).plot(kind='bar')\n",
    "plt.title('RFM_level Distribution')\n",
    "plt.xlabel('RFM_Level')\n",
    "plt.ylabel('% Proportion')\n",
    "plt.show()"
   ]
  },
  {
   "cell_type": "markdown",
   "metadata": {},
   "source": [
    "#### Посмотрим на средние для каждой RFM группы"
   ]
  },
  {
   "cell_type": "code",
   "execution_count": 42,
   "metadata": {},
   "outputs": [
    {
     "name": "stdout",
     "output_type": "stream",
     "text": [
      "                    Recency Frequency Monetary_value       \n",
      "                       mean      mean           mean  count\n",
      "RFM_Level                                                  \n",
      "High Value Customer   127.6       7.7        42930.7  27365\n",
      "Low Value Customer    521.2       1.0         1814.9  17173\n",
      "Mid Value Customer    302.1       1.4         5831.0  73854\n"
     ]
    }
   ],
   "source": [
    "rfm_level_agg = df_RFM.groupby(['RFM_Level']).agg({\n",
    "    'Recency': 'mean',\n",
    "    'Frequency': 'mean',\n",
    "    'Monetary_value':['mean','count']}).round(1)\n",
    "\n",
    "print(rfm_level_agg)"
   ]
  },
  {
   "cell_type": "markdown",
   "metadata": {},
   "source": [
    "Таким образом разделив клиентов на группу можно выстраивать политику лояльности соответсвующим клиентам"
   ]
  },
  {
   "cell_type": "code",
   "execution_count": null,
   "metadata": {},
   "outputs": [],
   "source": []
  }
 ],
 "metadata": {
  "kernelspec": {
   "display_name": "Python 3",
   "language": "python",
   "name": "python3"
  },
  "language_info": {
   "codemirror_mode": {
    "name": "ipython",
    "version": 3
   },
   "file_extension": ".py",
   "mimetype": "text/x-python",
   "name": "python",
   "nbconvert_exporter": "python",
   "pygments_lexer": "ipython3",
   "version": "3.7.1"
  }
 },
 "nbformat": 4,
 "nbformat_minor": 4
}
